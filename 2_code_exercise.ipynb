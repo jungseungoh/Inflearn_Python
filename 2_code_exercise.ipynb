{
  "nbformat": 4,
  "nbformat_minor": 0,
  "metadata": {
    "colab": {
      "provenance": [],
      "mount_file_id": "1_503BQoaIgyA9YYtdvGFYxy53g-ajDI5",
      "authorship_tag": "ABX9TyMEJb1T4p0H5PS9i1Pl7mQx",
      "include_colab_link": true
    },
    "kernelspec": {
      "name": "python3",
      "display_name": "Python 3"
    },
    "language_info": {
      "name": "python"
    }
  },
  "cells": [
    {
      "cell_type": "markdown",
      "metadata": {
        "id": "view-in-github",
        "colab_type": "text"
      },
      "source": [
        "<a href=\"https://colab.research.google.com/github/jungseungoh/Inflearn_Python/blob/main/2_code_exercise.ipynb\" target=\"_parent\"><img src=\"https://colab.research.google.com/assets/colab-badge.svg\" alt=\"Open In Colab\"/></a>"
      ]
    },
    {
      "cell_type": "markdown",
      "source": [
        "### 1. K번째 약수 풀이\n"
      ],
      "metadata": {
        "id": "NcQpnpuX43sV"
      }
    },
    {
      "cell_type": "markdown",
      "source": [
        "자연수 N과 K가 주어졌을 때, N의 약수들 중 K번째로 작은 수를 출력.\n",
        "\n",
        "(N의 약수의 개수가 K보다 적어서 K번째 약수 존재안하면 -1 출력)"
      ],
      "metadata": {
        "id": "EqjjEBQZ-0Hd"
      }
    },
    {
      "cell_type": "code",
      "source": [
        "n, k = map(int, input().split())\n",
        "cnt = 0\n",
        "\n",
        "for i in range(1, n+1):\n",
        "    if n%i==0:\n",
        "        cnt+=1\n",
        "    if cnt==k:\n",
        "        print(i)\n",
        "        break\n",
        "else:\n",
        "    print(-1)\n",
        "\n",
        "# for ~ else 구문\n",
        "# break를 쓰면 for문이 그대로 종료"
      ],
      "metadata": {
        "colab": {
          "base_uri": "https://localhost:8080/"
        },
        "id": "Kp07E1SK7Ms_",
        "outputId": "83ce2eb5-0667-44a5-8fa7-43300d7333b7"
      },
      "execution_count": null,
      "outputs": [
        {
          "output_type": "stream",
          "name": "stdout",
          "text": [
            "6 3\n",
            "3\n"
          ]
        }
      ]
    },
    {
      "cell_type": "markdown",
      "source": [
        "### 2. K번째 수"
      ],
      "metadata": {
        "id": "TlGrrbfe7rmI"
      }
    },
    {
      "cell_type": "markdown",
      "source": [
        "N개의 숫자로 이루어진 숫자열이 주어지면 s번째부터 e번째까지의 수를 오름차순 정렬했을 때 k번째로 나타나는 숫자 출력."
      ],
      "metadata": {
        "id": "rvqc7jac-f3J"
      }
    },
    {
      "cell_type": "code",
      "source": [
        "T = int(input())\n",
        "for t in range(T):\n",
        "    N, s, e, k = map(int, input().split())\n",
        "    a = list(map(int, input().split()))\n",
        "    a = a[s-1:e]  #인덱스값\n",
        "    a.sort()  #오름차순\n",
        "    print(\"#%d %d\" %(t+1, a[k-1]))"
      ],
      "metadata": {
        "colab": {
          "base_uri": "https://localhost:8080/"
        },
        "id": "3Be7mj2p_Wmm",
        "outputId": "f80f3c5c-6942-4d38-8041-309a8db536f1"
      },
      "execution_count": null,
      "outputs": [
        {
          "output_type": "stream",
          "name": "stdout",
          "text": [
            "2\n",
            "6 2 5 3\n",
            "5 2 7 3 8 9\n",
            "#1 7\n",
            "15 3 10 3\n",
            "4 15 8 16 6 6 17 3 10 11 18 7 14 7 15\n",
            "#2 6\n"
          ]
        }
      ]
    },
    {
      "cell_type": "markdown",
      "source": [
        "### 3. K번째 큰 수"
      ],
      "metadata": {
        "id": "KpgyOu2UFXmN"
      }
    },
    {
      "cell_type": "markdown",
      "source": [
        "1부터 100사이의 자연수가 적힌 N장의 카드  \n",
        "3장을 뽑아 각 카드에 적힌 수를 합한 값 기록  \n",
        "3장을 뽑을 수 있는 모든 경우을 기록.\n",
        "기록한 값 중 K번째로 큰 수 출력."
      ],
      "metadata": {
        "id": "STJAnI94FZgw"
      }
    },
    {
      "cell_type": "code",
      "source": [
        "N, K = map(int, input().split())\n",
        "a = list(map(int, input().split()))\n",
        "res = set()  # 중복제거\n",
        "for i in range(n):\n",
        "    for j in range(i+1, n):\n",
        "        for m in range(j+1, n):\n",
        "            res.add(a[i]+a[j]+a[m])  #set에는 sort가 없다\n",
        "res = list(res)\n",
        "res.sort(reverse=True)  #내림차순\n",
        "print(res[k-1])"
      ],
      "metadata": {
        "colab": {
          "base_uri": "https://localhost:8080/"
        },
        "id": "VBz3DcmTGV5O",
        "outputId": "69dd96ca-175c-45a6-d596-efe432ed61ac"
      },
      "execution_count": null,
      "outputs": [
        {
          "output_type": "stream",
          "name": "stdout",
          "text": [
            "10 3\n",
            "13 15 34 23 45 65 33 11 26 42\n",
            "125\n"
          ]
        }
      ]
    },
    {
      "cell_type": "markdown",
      "source": [
        "### [선수지식] 최솟값 구하기"
      ],
      "metadata": {
        "id": "DW1G6akyPyzh"
      }
    },
    {
      "cell_type": "code",
      "source": [
        "arr = [5,3,7,9,2,5,2,6]\n",
        "# 방식1\n",
        "arrMin = float('inf')\n",
        "for i in range(len(arr)):\n",
        "    if arr[i] < arrMin:   # 같다고 하지 않았으니깐 4번째 인덱스 값인 2가 출력!\n",
        "        arrMin = arr[i]\n",
        "print(arrMin)\n",
        "\n",
        "# 방식2\n",
        "arr = [5,3,7,9,2,5,2,6]\n",
        "arrMin = arr[0]\n",
        "for i in range(1, len(arr)):\n",
        "    if arr[i] < arrMin:   # 같다고 하지 않았으니깐 4번째 인덱스 값인 2가 출력!\n",
        "        arrMin = arr[i]\n",
        "print(arrMin)\n",
        "\n",
        "# 방식3\n",
        "arr = [5,3,7,9,2,5,2,6]\n",
        "arrMin = float('inf')\n",
        "for x in arr:\n",
        "    if x < arrMin:   # 같다고 하지 않았으니깐 4번째 인덱스 값인 2가 출력!\n",
        "        arrMin = x\n",
        "print(arrMin)"
      ],
      "metadata": {
        "colab": {
          "base_uri": "https://localhost:8080/"
        },
        "id": "LoOc_ThtP-lZ",
        "outputId": "305e5cda-b9ea-4c7c-fd46-b979d6315a7d"
      },
      "execution_count": null,
      "outputs": [
        {
          "output_type": "stream",
          "name": "stdout",
          "text": [
            "2\n"
          ]
        }
      ]
    },
    {
      "cell_type": "markdown",
      "source": [
        "### 4. 대표값"
      ],
      "metadata": {
        "id": "hoMKo-jxSCSU"
      }
    },
    {
      "cell_type": "markdown",
      "source": [
        "N명의 학생들의 평균 수학점수(소수 첫째자리 반올림)를 구하고 N명의 학생 중 평균에 가장 가까운 학생은 몇번째 학생인지 출력.\n",
        "- 평균과 가까운 점수가 여러 개일 경우 점수가 높은 학생의 번호로 한다.\n",
        "- 높은 점수를 가진 학생이 여러 명일 경우 빠른 학생의 번호로 한다."
      ],
      "metadata": {
        "id": "7ly9snSxSFE4"
      }
    },
    {
      "cell_type": "code",
      "source": [
        "n = int(input())\n",
        "a = list(map(int, input().split()))\n",
        "ave = round(sum(a)/n)\n",
        "min = 2147000000\n",
        "for idx, x in enumerate(a):\n",
        "    tmp = abs(x-ave)   # 평균값과의 거리\n",
        "    if tmp < min:\n",
        "        min = tmp\n",
        "        score = x\n",
        "        res = idx+1\n",
        "    elif tmp == min:\n",
        "        if x > score:   # 같다고 두면 제일 느린 번호의 학생이 담긴다\n",
        "            score = x\n",
        "            res = idx+1\n",
        "print(ave, res)"
      ],
      "metadata": {
        "colab": {
          "base_uri": "https://localhost:8080/"
        },
        "id": "QIA6wyb-S7PT",
        "outputId": "389abf57-bb46-48ce-a051-fb3fd32ad759"
      },
      "execution_count": null,
      "outputs": [
        {
          "output_type": "stream",
          "name": "stdout",
          "text": [
            "10\n",
            "45 73 66 87 92 67 75 79 75 80\n",
            "74 7\n"
          ]
        }
      ]
    },
    {
      "cell_type": "code",
      "source": [
        "n=int(input())\n",
        "a=list(map(int, input().split()))\n",
        "avg=round(sum(a)/n+0.5)\n",
        "min=2147000000\n",
        "for idx, x in enumerate(a):\n",
        "    tmp = abs(x-avg)\n",
        "    if tmp < min:\n",
        "        min = tmp\n",
        "        score = x\n",
        "        res = idx+1\n",
        "    elif tmp==min:\n",
        "        if x > score:\n",
        "            score = x\n",
        "            res = idx+1\n",
        "print(avg,res)"
      ],
      "metadata": {
        "colab": {
          "base_uri": "https://localhost:8080/"
        },
        "id": "YmklXYVPiw60",
        "outputId": "82532b7c-7da3-4e96-eacf-99e5d5784849"
      },
      "execution_count": null,
      "outputs": [
        {
          "output_type": "stream",
          "name": "stdout",
          "text": [
            "10\n",
            "45 73 66 87 92 67 75 79 75 80\n",
            "74 7\n"
          ]
        }
      ]
    },
    {
      "cell_type": "code",
      "source": [
        "# round함수는 round_half_even 방식을 택한다.\n",
        "a=4.5\n",
        "print(round(a))"
      ],
      "metadata": {
        "colab": {
          "base_uri": "https://localhost:8080/"
        },
        "id": "NoksB9L9ju9H",
        "outputId": "81353440-63e1-422d-8446-c0f4fe2c5f18"
      },
      "execution_count": null,
      "outputs": [
        {
          "output_type": "stream",
          "name": "stdout",
          "text": [
            "4\n"
          ]
        }
      ]
    },
    {
      "cell_type": "markdown",
      "source": [
        "### 5. 정다면체"
      ],
      "metadata": {
        "id": "11gvocHikZhm"
      }
    },
    {
      "cell_type": "markdown",
      "source": [
        "정 N면체와 정 M면체의 두개의 주사위를 던져서 나올 수 있는 눈의 합 중 가장 확률이 높은 숫자 출력.\n",
        "\n",
        "(정답이 여러 개일 경우 오름차순 출력)"
      ],
      "metadata": {
        "id": "Jf7d_NrSkbra"
      }
    },
    {
      "cell_type": "code",
      "source": [
        "n, m = map(int, input().split())\n",
        "cnt = [0] * (n+m+3)\n",
        "max = 0\n",
        "for i in range(1, n+1):\n",
        "    for j in range(1, m+1):\n",
        "        cnt[i+j]+=1\n",
        "for i in range(n+m+1):\n",
        "    if cnt[i]>max:\n",
        "        max=cnt[i]\n",
        "for i in range(n+m+1):\n",
        "    if cnt[i]==max:\n",
        "        print(i, end=' ')"
      ],
      "metadata": {
        "colab": {
          "base_uri": "https://localhost:8080/"
        },
        "id": "r7zGX7U9kuqS",
        "outputId": "012f8639-270f-4e9c-cc7e-ee1b684264c1"
      },
      "execution_count": null,
      "outputs": [
        {
          "output_type": "stream",
          "name": "stdout",
          "text": [
            "4 6\n",
            "5 6 7 "
          ]
        }
      ]
    },
    {
      "cell_type": "markdown",
      "source": [
        "### 6. 자릿수의 합"
      ],
      "metadata": {
        "id": "ZI1N-BI9wi_u"
      }
    },
    {
      "cell_type": "markdown",
      "source": [
        "자연수 N 입력되면 각 자연수의 자릿수 합을 구하고 합이 최대인 자연수를 출력.\n",
        "\n",
        "자릿수의 합을 구하는 함수를 def digit_sum(x)으로 작성해서 하기!\n",
        "- 자릿수 합이 같을 경우 : 입력순으로 먼저인 숫자 출력"
      ],
      "metadata": {
        "id": "z5q2mlebwlkC"
      }
    },
    {
      "cell_type": "code",
      "source": [
        "n = int(input())\n",
        "a = list(map(int, input().split()))\n",
        "\n",
        "# 방식1\n",
        "def digit_sum(x):\n",
        "    sum=0   # 변수 선언\n",
        "    while x>0:\n",
        "        sum+=x%10\n",
        "        x=x//10\n",
        "    return sum\n",
        "\n",
        "# 방식2\n",
        "def digit_sum(x):\n",
        "    sum=0\n",
        "    for i in str(x):  # string으로 쪼개기\n",
        "        sum += int(i)   # int형으로 변환해서 자릿수 합하기\n",
        "    return sum\n",
        "\n",
        "max = -2147000000\n",
        "for x in a:\n",
        "    tot=digit_sum(x)\n",
        "    if tot>max:\n",
        "        max=tot\n",
        "        res=x\n",
        "print(res)\n"
      ],
      "metadata": {
        "colab": {
          "base_uri": "https://localhost:8080/"
        },
        "id": "p70Xn1b2v8oF",
        "outputId": "815c4bb2-db23-492f-f9a4-514af30baac1"
      },
      "execution_count": null,
      "outputs": [
        {
          "output_type": "stream",
          "name": "stdout",
          "text": [
            "3\n",
            "125 1523 97\n",
            "97\n"
          ]
        }
      ]
    },
    {
      "cell_type": "markdown",
      "source": [
        "### 7. 소수의 개수 (에라토스테네스 체)"
      ],
      "metadata": {
        "id": "sx_FZy3U2V7p"
      }
    },
    {
      "cell_type": "markdown",
      "source": [
        "자연수 N 입력되면 1 ~ N까지 소수의 개수 출력\n",
        "(제한시간 1초)"
      ],
      "metadata": {
        "id": "GSU_sqBX2YX3"
      }
    },
    {
      "cell_type": "markdown",
      "source": [
        "1은 소수의 대상이 아니니 i는 2부터 N까지 진행\n"
      ],
      "metadata": {
        "id": "oHGbsb3S3EFK"
      }
    },
    {
      "cell_type": "code",
      "source": [
        "n = int(input())\n",
        "ch = [0]*(n+3)  # 에라토스테네스의 체를 위한 리스트\n",
        "cnt = 0  # 소수의 개수를 세기 위한 변수\n",
        "\n",
        "for i in range(2, n+1):\n",
        "    if ch[i] == 0:\n",
        "        cnt += 1  # 소수 발견 시 개수를 증가\n",
        "        for j in range(i, n+1, i):  # i부터 n+1까지 돌면서 i 스텝마다\n",
        "            ch[j] = 1  # 소수가 아닌 숫자를 체크\n",
        "\n",
        "print(cnt)"
      ],
      "metadata": {
        "colab": {
          "base_uri": "https://localhost:8080/"
        },
        "id": "dNpgXzbf2f1O",
        "outputId": "0f25e122-a760-4663-8735-deeebc22f118"
      },
      "execution_count": null,
      "outputs": [
        {
          "output_type": "stream",
          "name": "stdout",
          "text": [
            "20\n",
            "8\n"
          ]
        }
      ]
    },
    {
      "cell_type": "markdown",
      "source": [
        "### 8. 뒤집은 소수"
      ],
      "metadata": {
        "id": "AV4HeqK67G0y"
      }
    },
    {
      "cell_type": "markdown",
      "source": [
        "N개 자연수 입력되면 뒤집은 후 그 뒤집은 수가 소수이면 그 수 출력하기  \n",
        "- 뒤집는 함수 : def reverse(x)  \n",
        "- 소수 확인하는 함수 : def isPrime(x)  \n",
        "\n",
        "(단, 910 뒤집으면 19로 숫자화 해야함. 첫자리 0은 무시)\n"
      ],
      "metadata": {
        "id": "c1TGKUKm7IWd"
      }
    },
    {
      "cell_type": "code",
      "source": [
        "def reverse(x):\n",
        "    res = 0\n",
        "    while x > 0:\n",
        "        t = x % 10          # x의 마지막 자릿수를 구함\n",
        "        res = res * 10 + t  # 자릿수를 추가하여 숫자 뒤집음\n",
        "        x = x // 10         # x의 마지막 자릿수 제거\n",
        "    return res\n",
        "\n",
        "def isPrime(x):\n",
        "    if x == 1:\n",
        "        return False\n",
        "\n",
        "    for i in range(2, x//2+1): # 2부터 x의 절반까지의 숫자로 나누어 나머지가 0인지 확인\n",
        "        if x % i == 0:\n",
        "            return False  # 소수 X\n",
        "    else:\n",
        "        return True  # 소수 O\n",
        "\n",
        "n = int(input())\n",
        "a = list(map(int, input().split()))\n",
        "\n",
        "for x in a:\n",
        "    tmp = reverse(x)\n",
        "    if isPrime(tmp):\n",
        "        print(tmp, end=' ')"
      ],
      "metadata": {
        "colab": {
          "base_uri": "https://localhost:8080/"
        },
        "id": "TjV-1Y3h-iX9",
        "outputId": "c424e49b-2ba5-4a63-e23a-b1b1c8ad7f1c"
      },
      "execution_count": null,
      "outputs": [
        {
          "output_type": "stream",
          "name": "stdout",
          "text": [
            "5\n",
            "32 55 62 3700 250\n",
            "23 73 "
          ]
        }
      ]
    },
    {
      "cell_type": "markdown",
      "source": [
        "### 9. 주사위 게임"
      ],
      "metadata": {
        "id": "WTlR9b3cAUew"
      }
    },
    {
      "cell_type": "markdown",
      "source": [
        "1부터 6까지의 눈을 가진 3개의 주사위를 던져서 다음과 같은 규칙에 따라 상금을 받는 게임이 있다.  \n",
        "- 같은 눈이 3개가 나오는 경우 10,000원+(같은 눈)*1,000원 상금 수여\n",
        "- 같은 눈이 2개만 나오는 경우 1,000원+(같은 눈)*100원 상금 수여\n",
        "- 모두 다른 눈이 나오는 경우 (그 중 가장 큰 눈)*100원 상금 수여  \n",
        "\n",
        "N명이 주사위 게임을 참여했을 때, 가장 많은 상금을 받는 사람의 상금을 출력하시오."
      ],
      "metadata": {
        "id": "8giOMt4KAV34"
      }
    },
    {
      "cell_type": "code",
      "source": [
        "n = int(input())\n",
        "res = 0\n",
        "\n",
        "for i in range(n):\n",
        "    tmp = input().split()    # 주사위의 눈을 문자열로 입력받아 리스트로 변환\n",
        "    tmp.sort()               # 오름차순 정렬\n",
        "    a, b, c = map(int, tmp)  # 정렬된 주사위 눈을 a, b, c로 저장\n",
        "\n",
        "    # 같은 눈이 3개인 경우\n",
        "    if a == b and b == c:\n",
        "        money = 10000 + (a * 1000)\n",
        "\n",
        "    # 같은 눈이 2개인 경우\n",
        "    elif a == b or a == c:\n",
        "        money = 1000 + (a * 100)\n",
        "    elif b == c:\n",
        "        money = 1000 + (b * 100)\n",
        "\n",
        "    # 모두 다른 눈인 경우\n",
        "    else:\n",
        "        money = c * 100\n",
        "\n",
        "    if money > res:\n",
        "        res = money\n",
        "\n",
        "print(res)"
      ],
      "metadata": {
        "colab": {
          "base_uri": "https://localhost:8080/"
        },
        "id": "SGOlbYk2A2iv",
        "outputId": "bb875e11-e316-48f9-82ed-718aa2785a25"
      },
      "execution_count": null,
      "outputs": [
        {
          "output_type": "stream",
          "name": "stdout",
          "text": [
            "3\n",
            "3 3 6\n",
            "2 2 2\n",
            "6 2 5\n",
            "12000\n"
          ]
        }
      ]
    },
    {
      "cell_type": "markdown",
      "source": [
        "### 10. 점수 계산"
      ],
      "metadata": {
        "id": "ohRPvqTBDOmi"
      }
    },
    {
      "cell_type": "markdown",
      "source": [
        "1번 문제 맞는 경우 : 1점\n",
        "앞의 문제 틀리다가 답이 맞는 문제 : 1점\n",
        "연속 정답의 경우 두번째는 2점, 세번째는 3점....\n",
        "오답은 0점\n",
        "\n",
        "시험문제의 채점 결과가 주어졌을 때, 총 점수 계산하는 프로그램 작성하시오"
      ],
      "metadata": {
        "id": "Wp7hINgCDP36"
      }
    },
    {
      "cell_type": "code",
      "source": [
        "n = int(input())\n",
        "a = list(map(int, input().split()))\n",
        "sum = 0\n",
        "cnt = 0  #가중치\n",
        "for x in a:\n",
        "    if x==1:\n",
        "        cnt+=1\n",
        "        sum+=cnt\n",
        "    else:\n",
        "        cnt=0\n",
        "print(sum)"
      ],
      "metadata": {
        "colab": {
          "base_uri": "https://localhost:8080/"
        },
        "id": "EvdGeyakDrPN",
        "outputId": "6c036056-9f1c-4f8b-ed1b-0d39f5284345"
      },
      "execution_count": null,
      "outputs": [
        {
          "output_type": "stream",
          "name": "stdout",
          "text": [
            "10\n",
            "1 0 1 1 1 0 0 1 1 0\n",
            "10\n"
          ]
        }
      ]
    }
  ]
}
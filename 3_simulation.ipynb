{
  "nbformat": 4,
  "nbformat_minor": 0,
  "metadata": {
    "colab": {
      "provenance": [],
      "authorship_tag": "ABX9TyNgyoRTuta113PZyQgFxWeA",
      "include_colab_link": true
    },
    "kernelspec": {
      "name": "python3",
      "display_name": "Python 3"
    },
    "language_info": {
      "name": "python"
    }
  },
  "cells": [
    {
      "cell_type": "markdown",
      "metadata": {
        "id": "view-in-github",
        "colab_type": "text"
      },
      "source": [
        "<a href=\"https://colab.research.google.com/github/jungseungoh/Inflearn_Python/blob/main/3_simulation.ipynb\" target=\"_parent\"><img src=\"https://colab.research.google.com/assets/colab-badge.svg\" alt=\"Open In Colab\"/></a>"
      ]
    },
    {
      "cell_type": "markdown",
      "source": [
        "# 탐색 & 시뮬레이션 (string, 1차원, 2차원 리스트 탐색)"
      ],
      "metadata": {
        "id": "WUEbJiNK2Fdu"
      }
    },
    {
      "cell_type": "markdown",
      "source": [
        "### 1. 회문 문자열 검사"
      ],
      "metadata": {
        "id": "IvwsmM5N1tvJ"
      }
    },
    {
      "cell_type": "markdown",
      "source": [
        "N개 문자열 데이터 입력받아 앞뒤로 읽는게 같은 경우 == 회문 문자열  \n",
        "같으면 YES, 아니면 NO 출력하는 프로그램을 만들어라.  \n",
        "(단, 회문 검사할 때 대소문자 구분 안함)"
      ],
      "metadata": {
        "id": "XZtZuxIu2RF5"
      }
    },
    {
      "cell_type": "code",
      "source": [
        "n = int(input())\n",
        "for i in range(n):\n",
        "    a = input()\n",
        "    a = a.upper()  # 대문자 or 소문자로 통일시키기\n",
        "    if a == a[::-1]:   # 슬라이싱 ::-1 -> 거꾸로\n",
        "        print(\"#%d YES\" %(i+1))\n",
        "    else:\n",
        "        print(\"#%d NO\" %(i+1))"
      ],
      "metadata": {
        "colab": {
          "base_uri": "https://localhost:8080/"
        },
        "id": "1fsLx8fY26Po",
        "outputId": "cdfa4dd1-afce-48bc-e22f-88a1ce4b307a"
      },
      "execution_count": null,
      "outputs": [
        {
          "output_type": "stream",
          "name": "stdout",
          "text": [
            "2\n",
            "lebel\n",
            "#1 YES\n",
            "avnka\n",
            "#2 NO\n"
          ]
        }
      ]
    },
    {
      "cell_type": "markdown",
      "source": [
        "### 2. 숫자만 추출"
      ],
      "metadata": {
        "id": "OYw8Htdg5Utw"
      }
    },
    {
      "cell_type": "markdown",
      "source": [
        "문자와 숫자가 섞여있는 문자열에서 숫자만 추룰하여 만들어진 자연수와 약수의 개수를 출력하세요.\n",
        "\n",
        "예를 들어, t0e0a1c2h0er에서 숫자만 추출하면 0,0,1,2,0 -> 120 (첫 자리 0은 무시)"
      ],
      "metadata": {
        "id": "BpMOUl0Q5V--"
      }
    },
    {
      "cell_type": "code",
      "source": [
        "s = input()\n",
        "\n",
        "# 섞여있는 문자열에서 숫자만 추출하기\n",
        "res = 0\n",
        "for x in s:\n",
        "    if x.isdecimal():  # 0~9까지\n",
        "        res = res*10 + int(x)\n",
        "print(res)\n",
        "\n",
        "# 약수의 개수 구하기\n",
        "cnt = 0\n",
        "for i in range(1, res+1):\n",
        "    if res % i == 0:\n",
        "        cnt+=1\n",
        "print(cnt)"
      ],
      "metadata": {
        "colab": {
          "base_uri": "https://localhost:8080/"
        },
        "id": "tOPcdAnm5qnN",
        "outputId": "948bfcf5-5a26-4810-a20e-41698c14e324"
      },
      "execution_count": null,
      "outputs": [
        {
          "output_type": "stream",
          "name": "stdout",
          "text": [
            "g0en2Ts8eSoft\n",
            "28\n",
            "6\n"
          ]
        }
      ]
    },
    {
      "cell_type": "markdown",
      "source": [
        "### 3. 카드 역배치"
      ],
      "metadata": {
        "id": "wxraF2pJ-2gN"
      }
    },
    {
      "cell_type": "markdown",
      "source": [
        "1 ~ 20까지의 카드가 오름차순으로 놓여있다. 10개의 구간동안 주어진 순서대로 아래의 규칙에 따라 순서를 뒤집는 작업을 하여 마지막 카드들의 배치를 구하시오.\n",
        "- [a,b]까지 카드를 역순으로 놓는다\n"
      ],
      "metadata": {
        "id": "GqsU3cmI-4Zu"
      }
    },
    {
      "cell_type": "code",
      "source": [
        "a = list(range(21)) # 0 ~ 20까지의 숫자\n",
        "for _ in range(10):\n",
        "    s, e = map(int, input().split())\n",
        "    for i in range((e-s+1)//2):\n",
        "        a[s+i], a[e-i] = a[e-i], a[s+i]  # 스왑    a, b = b, a\n",
        "\n",
        "a.pop(0)\n",
        "for x in a:\n",
        "    print(x, end=' ')"
      ],
      "metadata": {
        "colab": {
          "base_uri": "https://localhost:8080/"
        },
        "id": "eGbKlTD0_dZm",
        "outputId": "0606488e-64b4-4544-b4c3-6309783f603d"
      },
      "execution_count": null,
      "outputs": [
        {
          "output_type": "stream",
          "name": "stdout",
          "text": [
            "5 10\n",
            "9 13\n",
            "1 2\n",
            "3 4\n",
            "5 6\n",
            "1 2\n",
            "3 4\n",
            "5 6\n",
            "1 20\n",
            "1 20\n",
            "1 2 3 4 10 9 8 7 13 12 11 5 6 14 15 16 17 18 19 20 "
          ]
        }
      ]
    },
    {
      "cell_type": "markdown",
      "source": [
        "### 4. 두 리스트 합치기"
      ],
      "metadata": {
        "id": "j8g23RAgCTfA"
      }
    },
    {
      "cell_type": "markdown",
      "source": [
        "오름차순으로 정렬된 2개의 리스트를 오름차순으로 합쳐 출력하시오"
      ],
      "metadata": {
        "id": "QaSUiAc6CVJl"
      }
    },
    {
      "cell_type": "code",
      "source": [
        "n = int(input())\n",
        "a = list(map(int, input().split()))\n",
        "m = int(input())\n",
        "b = list(map(int, input().split()))\n",
        "p1 = p2 = 0  # 리스트 a와 b의 현재 위치를 가리키는 포인터를 초기화\n",
        "c = []\n",
        "\n",
        "while p1 < n and p2 < m:  # p1, p2가 각각의 리스트 끝에 도달할 때까지 반복\n",
        "    if a[p1] <= b[p2]:\n",
        "        c.append(a[p1])\n",
        "        p1 += 1\n",
        "    else:\n",
        "        c.append(b[p2])\n",
        "        p2 += 1\n",
        "\n",
        "# 나머지 요소들을 슬라이싱으로 한번에 옮기기\n",
        "if p1 < n:\n",
        "    c += a[p1:]\n",
        "if p2 < m:\n",
        "    c += b[p2:]\n",
        "\n",
        "for x in c:\n",
        "    print(x, end=' ')"
      ],
      "metadata": {
        "colab": {
          "base_uri": "https://localhost:8080/"
        },
        "id": "CbrNFd-sCZT_",
        "outputId": "ad1edd73-507b-43ca-c27b-239150aec1da"
      },
      "execution_count": null,
      "outputs": [
        {
          "output_type": "stream",
          "name": "stdout",
          "text": [
            "3\n",
            "1 3 5\n",
            "5\n",
            "2 3 6 7 9\n",
            "1 2 3 3 5 6 7 9 "
          ]
        }
      ]
    },
    {
      "cell_type": "markdown",
      "source": [
        "### 5. 수의 합"
      ],
      "metadata": {
        "id": "JSQg0R8xGP__"
      }
    },
    {
      "cell_type": "markdown",
      "source": [
        "N개의 수열에서 M이 되는 경우의 수를 구해라"
      ],
      "metadata": {
        "id": "kPw25w1qGSvA"
      }
    },
    {
      "cell_type": "code",
      "source": [
        "n, m = map(int, input().split())        # n: 수열의 길이, m: 목표 합\n",
        "a = list(map(int, input().split()))\n",
        "\n",
        "lt, rt = 0, 1  # lt: 왼쪽 포인터 (부분합의 시작 위치), rt: 오른쪽 포인터 (부분합의 끝 위치)\n",
        "tot = a[0]     # tot: 현재 부분합을 저장하는 변수\n",
        "cnt = 0\n",
        "\n",
        "# 무한 루프를 통해 모든 경우 검사\n",
        "while True:\n",
        "    #1 현재 부분합이 목표 합보다 작은 경우\n",
        "    if tot < m:\n",
        "        if rt < n:        # rt가 수열의 범위를 벗어나지 않았으면\n",
        "            tot += a[rt]  # 부분합 확장\n",
        "            rt += 1       # rt 포인터 이동\n",
        "        else:             # rt가 수열의 끝에 도달한 경우\n",
        "            break         # 더 이상 확장할 수 없으므로 반복문 종료\n",
        "\n",
        "    #2 현재 부분합이 목표 합과 같은 경우\n",
        "    elif tot == m:\n",
        "        cnt += 1\n",
        "        tot -= a[lt]      # 왼쪽 포인터 이동, tot에서 a[lt] 값 빼기\n",
        "        lt += 1           # lt 포인터 이동\n",
        "\n",
        "    #3 현재 부분합이 목표 합보다 큰 경우\n",
        "    else:\n",
        "        tot -= a[lt]      # 왼쪽 포인터 이동, tot에서 a[lt] 값 빼기\n",
        "        lt += 1           # lt 포인터 이동\n",
        "\n",
        "print(cnt)\n"
      ],
      "metadata": {
        "colab": {
          "base_uri": "https://localhost:8080/"
        },
        "id": "1kuTNoX-J8Xf",
        "outputId": "f3c32f39-d2be-42da-a826-6a24de6a0039"
      },
      "execution_count": null,
      "outputs": [
        {
          "output_type": "stream",
          "name": "stdout",
          "text": [
            "8 3\n",
            "1 2 1 3 1 1 1 2\n",
            "5\n"
          ]
        }
      ]
    },
    {
      "cell_type": "markdown",
      "source": [
        "### 6. 격자판 최대 합"
      ],
      "metadata": {
        "id": "ji_rStSnPDEn"
      }
    },
    {
      "cell_type": "markdown",
      "source": [
        "N*N 격자판이 주어지면 각 행의 합, 열의 합, 두 개각선의 합 중 가장 큰 합을 출력하세요."
      ],
      "metadata": {
        "id": "oYU3NVeUPGmP"
      }
    },
    {
      "cell_type": "code",
      "source": [
        "n = int(input())\n",
        "a = [list(map(int, input().split())) for _ in range(n)]\n",
        "largest = -2147000000\n",
        "for i in range(n):\n",
        "    sum1=sum2=0 #sum1 = 행의 합 sum2 = 열의 합\n",
        "    for j in range(n):\n",
        "        sum1+=a[i][j]\n",
        "        sum2+=a[j][i]\n",
        "    if sum1 > largest:\n",
        "        largest=sum1\n",
        "    if sum2 > largest:\n",
        "        largest=sum2\n",
        "\n",
        "sum1=sum2=0\n",
        "#대각선의 합\n",
        "for i in range(n):\n",
        "    sum1+=a[i][i]\n",
        "    sum2+=a[i][n-i-1]   #인덱스 고려해서 -1\n",
        "if sum1 > largest:\n",
        "    largest=sum1\n",
        "if sum2 > largest:\n",
        "    largest=sum2\n",
        "print(largest)"
      ],
      "metadata": {
        "colab": {
          "base_uri": "https://localhost:8080/"
        },
        "id": "kST5FiC5PT32",
        "outputId": "678a5854-3e0a-4cac-8ea6-4d5d1151b2bb"
      },
      "execution_count": null,
      "outputs": [
        {
          "output_type": "stream",
          "name": "stdout",
          "text": [
            "5\n",
            "10 13 10 12 15\n",
            "12 39 30 23 11\n",
            "11 25 50 53 15\n",
            "19 27 29 37 27\n",
            "19 13 30 13 19\n",
            "155\n"
          ]
        }
      ]
    },
    {
      "cell_type": "markdown",
      "source": [
        "### 7. 사과나무"
      ],
      "metadata": {
        "id": "neU2WRWSSULU"
      }
    },
    {
      "cell_type": "markdown",
      "source": [
        "다이아몬드 모양의 격자판만 수확하도록. 사과의 총 개수 출력하기"
      ],
      "metadata": {
        "id": "paf0-6taSVhy"
      }
    },
    {
      "cell_type": "code",
      "source": [
        "n = int(input())\n",
        "a = [list(map(int, input().split())) for _ in range(n)]\n",
        "res = 0\n",
        "s = e = n//2\n",
        "for i in range(n):\n",
        "    for j in range(s, e+1):\n",
        "        res+=a[i][j]\n",
        "    if i < n//2:  # 2를 기점으로 !\n",
        "        s-=1\n",
        "        e+=1\n",
        "    else:\n",
        "        s+=1\n",
        "        e-=1\n",
        "print(res)"
      ],
      "metadata": {
        "colab": {
          "base_uri": "https://localhost:8080/"
        },
        "id": "ehFw1OOSSd0I",
        "outputId": "ba91810c-a83c-47e4-941d-b94a4f5cdc73"
      },
      "execution_count": null,
      "outputs": [
        {
          "output_type": "stream",
          "name": "stdout",
          "text": [
            "5\n",
            "10 13 10 12 15\n",
            "12 39 30 23 11\n",
            "11 25 50 53 15\n",
            "19 27 29 37 27\n",
            "19 13 30 13 19\n",
            "379\n"
          ]
        }
      ]
    },
    {
      "cell_type": "markdown",
      "source": [
        "### 8. 곳감(모래시계)"
      ],
      "metadata": {
        "id": "38JUsOEIV98z"
      }
    },
    {
      "cell_type": "code",
      "source": [
        "n = int(input())\n",
        "a = [list(map(int, input().split())) for _ in range(n)]\n",
        "\n",
        "m = int(input())\n",
        "for i in range(m):\n",
        "    h, t, k = map(int, input().split())         # h 행 번호  t 방향   k 개\n",
        "    if t==0: # 왼쪽\n",
        "        for _ in range(k):\n",
        "            a[h-1].append(a[h-1].pop(0))\n",
        "    else:\n",
        "        for _ in range(k):\n",
        "            a[h-1].insert(0, a[h-1].pop())\n",
        "\n",
        "# 모래시계\n",
        "res=0\n",
        "s=0\n",
        "e=n-1\n",
        "for i in range(n):\n",
        "    for j in range(s, e+1):\n",
        "        res+=a[i][j]\n",
        "    if i < n//2:\n",
        "        s+=1\n",
        "        e-=1\n",
        "    else:\n",
        "        s-=1\n",
        "        e+=1\n",
        "print(res)"
      ],
      "metadata": {
        "id": "lus-sbFYV_09",
        "colab": {
          "base_uri": "https://localhost:8080/"
        },
        "outputId": "8de36dc5-8cd1-40fe-a631-e4e056af3fef"
      },
      "execution_count": null,
      "outputs": [
        {
          "output_type": "stream",
          "name": "stdout",
          "text": [
            "5\n",
            "10 13 10 12 15\n",
            "12 39 30 23 11\n",
            "11 25 50 53 15\n",
            "19 27 29 37 27\n",
            "19 13 30 13 19\n",
            "3\n",
            "2 0 3\n",
            "5 1 2\n",
            "3 1 4\n",
            "362\n"
          ]
        }
      ]
    },
    {
      "cell_type": "markdown",
      "source": [
        "### 9. 봉우리"
      ],
      "metadata": {
        "id": "dOhnVFFljn8T"
      }
    },
    {
      "cell_type": "markdown",
      "source": [
        "가장 자리를 0으로 어떻게 초기화 시킬것인가  \n",
        "상하좌우"
      ],
      "metadata": {
        "id": "vj2GmPTZjp4Q"
      }
    },
    {
      "cell_type": "code",
      "source": [
        "dx = [-1, 0, 1, 0]  # x축 변화\n",
        "dy = [0, 1, 0, -1]  # y축 변화\n",
        "\n",
        "n = int(input())\n",
        "a = [list(map(int, input().split())) for _ in range(n)]\n",
        "\n",
        "# 가장자리 0으로 채우기\n",
        "a.insert(0, [0] * n)  # 맨 위에 0으로 채워진 행을 추가\n",
        "a.append([0] * n)     # 맨 아래에 0으로 채워진 행을 추가\n",
        "for x in a:\n",
        "    x.insert(0, 0)    # 각 행의 맨 앞에 0을 추가\n",
        "    x.append(0)       # 각 행의 맨 뒤에 0을 추가\n",
        "\n",
        "# 봉우리: 현재 값이 상하좌우에 있는 값보다 모두 클 때, 봉우리로 간주\n",
        "cnt = 0\n",
        "for i in range(1, n+1):  # 가장 자리 제외\n",
        "    for j in range(1, n+1):\n",
        "        # 현재 위치 (i, j)의 값이 상하좌우에 있는 값들보다 큰지 확인\n",
        "        if all(a[i][j] > a[i+dx[k]][j+dy[k]] for k in range(4)):\n",
        "            cnt += 1\n",
        "print(cnt)\n"
      ],
      "metadata": {
        "colab": {
          "base_uri": "https://localhost:8080/"
        },
        "id": "Ly19s7i7j9ma",
        "outputId": "78906645-753f-4622-c37a-62a289b176d0"
      },
      "execution_count": null,
      "outputs": [
        {
          "output_type": "stream",
          "name": "stdout",
          "text": [
            "5\n",
            "5 3 7 2 3\n",
            "3 7 1 6 1\n",
            "7 2 5 3 4\n",
            "4 3 6 4 1\n",
            "8 7 3 5 2\n",
            "10\n"
          ]
        }
      ]
    },
    {
      "cell_type": "markdown",
      "source": [
        "### 10. 스도쿠 검사"
      ],
      "metadata": {
        "id": "XcsjXcKus173"
      }
    },
    {
      "cell_type": "code",
      "source": [
        "def check(a):\n",
        "    for i in range(9):\n",
        "        ch1 = [0] * 10 # 행 체크\n",
        "        ch2 = [0] * 10 # 열 체크\n",
        "        for j in range(9):\n",
        "            ch1[a[i][j]] = 1\n",
        "            ch2[a[j][i]] = 1\n",
        "        if sum(ch1) != 9 or sum(ch2) != 9:\n",
        "            return False\n",
        "\n",
        "    for i in range(3):\n",
        "        for j in range(3):\n",
        "            ch3 = [0] * 10 # 그룹 체크\n",
        "            for k in range(3):\n",
        "                for s in range(3):\n",
        "                    ch3[a[i*3+k][j*3+s]] = 1\n",
        "            if sum(ch3) != 9:\n",
        "                return False\n",
        "    return True\n",
        "\n",
        "a = [list(map(int, input().split())) for _ in range(9)] # 2차원 배열\n",
        "\n",
        "if check(a):\n",
        "    print(\"YES\")\n",
        "else:\n",
        "    print(\"NO\")"
      ],
      "metadata": {
        "id": "wQGQN43ws1um",
        "colab": {
          "base_uri": "https://localhost:8080/"
        },
        "outputId": "f69d6f0c-e1e9-44d0-bc92-c6db2cf734f8"
      },
      "execution_count": 2,
      "outputs": [
        {
          "output_type": "stream",
          "name": "stdout",
          "text": [
            "1 4 3 6 2 8 5 7 9\n",
            "5 7 2 1 3 9 4 6 8\n",
            "9 8 6 7 5 4 2 3 1\n",
            "3 9 1 5 4 2 7 8 6\n",
            "4 6 8 9 1 7 3 5 2\n",
            "7 2 5 8 6 3 9 1 4\n",
            "2 3 7 4 8 1 6 9 5\n",
            "6 1 9 2 7 5 8 4 3\n",
            "8 5 4 3 9 6 1 2 7\n",
            "YES\n"
          ]
        }
      ]
    },
    {
      "cell_type": "markdown",
      "source": [
        "### 11. 격자판 회문수"
      ],
      "metadata": {
        "id": "f2SbwGnDqUwH"
      }
    },
    {
      "cell_type": "code",
      "source": [
        "board = [list(map(int, input().split())) for _ in range(7)]\n",
        "cnt = 0\n",
        "for i in range(3):\n",
        "    for j in range(7):\n",
        "        tmp = board[j][i:i+5]\n",
        "        if tmp == tmp[::-1]:\n",
        "            cnt+=1\n",
        "        for k in range(2):\n",
        "            if board[i+k][j] != board[i+5-k-1][j]:\n",
        "                break\n",
        "        else:\n",
        "            cnt+=1\n",
        "print(cnt)"
      ],
      "metadata": {
        "id": "xohBO5jjqfhL"
      },
      "execution_count": null,
      "outputs": []
    }
  ]
}
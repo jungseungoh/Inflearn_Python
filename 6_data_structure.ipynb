{
  "nbformat": 4,
  "nbformat_minor": 0,
  "metadata": {
    "colab": {
      "provenance": [],
      "authorship_tag": "ABX9TyM23cVmLhhHiwxaAwgC3H1l",
      "include_colab_link": true
    },
    "kernelspec": {
      "name": "python3",
      "display_name": "Python 3"
    },
    "language_info": {
      "name": "python"
    }
  },
  "cells": [
    {
      "cell_type": "markdown",
      "metadata": {
        "id": "view-in-github",
        "colab_type": "text"
      },
      "source": [
        "<a href=\"https://colab.research.google.com/github/jungseungoh/Inflearn_Python/blob/main/6_data_structure.ipynb\" target=\"_parent\"><img src=\"https://colab.research.google.com/assets/colab-badge.svg\" alt=\"Open In Colab\"/></a>"
      ]
    },
    {
      "cell_type": "markdown",
      "source": [
        "# 스택 (stack)"
      ],
      "metadata": {
        "id": "8knKJZG_77CT"
      }
    },
    {
      "cell_type": "markdown",
      "source": [
        "들어가는 입구와 나오는 입구가 한 개! (like a 음료수 캔)\n",
        "\n",
        "pop() , append() 함수가 대체적으로 많이 쓰인다."
      ],
      "metadata": {
        "id": "zYdZrk2c-AMG"
      }
    },
    {
      "cell_type": "markdown",
      "source": [
        "### 1. 가장 큰 수"
      ],
      "metadata": {
        "id": "5j3I7fXz83Mv"
      }
    },
    {
      "cell_type": "code",
      "source": [
        "num, m = map(int, input().split())\n",
        "# num=list(num)    TypeError: int형은 직접적으로 리스트 변환 불가능! 변환하고 싶으면 먼저 문자열로 바꾸고 각 문자를 다시 숫자로 바꿔야한다.\n",
        "num = list(map(int, str(num)))\n",
        "stack = []\n",
        "for x in num:\n",
        "    while stack and m>0 and stack[-1] < x:\n",
        "        stack.pop()\n",
        "        m-=1\n",
        "    stack.append(x)\n",
        "\n",
        "# m이 남은 경우\n",
        "if m!=0:\n",
        "    stack = stack[:-m]\n",
        "# 문자열 붙이는 방식1\n",
        "res = ''.join(map(str, stack))\n",
        "print(res)\n",
        "\n",
        "# 문자열 붙이는 방식2\n",
        "# for x in stack:\n",
        "#     print(x, end='')"
      ],
      "metadata": {
        "colab": {
          "base_uri": "https://localhost:8080/"
        },
        "id": "whnkGIUD85D4",
        "outputId": "d76d15ea-e8b0-41b6-cfb1-f48f71f4bce7"
      },
      "execution_count": null,
      "outputs": [
        {
          "output_type": "stream",
          "name": "stdout",
          "text": [
            "5276823 3\n",
            "7823\n"
          ]
        }
      ]
    },
    {
      "cell_type": "markdown",
      "source": [
        "### 2. 쇠막대기"
      ],
      "metadata": {
        "id": "WzW8vrW2F-N9"
      }
    },
    {
      "cell_type": "markdown",
      "source": [
        "레이저에 잘려진 쇠막대기 조각의 총 개수 구하기\n",
        "\n",
        "[조건]  \n",
        "- 쇠막대기는 자신보다 긴 쇠막대기 위에만 놓일 수 있다. (완전히 포함되도록 놓되, 끝점은 겹치지 않도록 한다.)\n",
        "- 각 쇠막대기를 자르는 레이저는 적어도 하나 존재.\n",
        "- 레이저는 어떤 쇠막대기의 양 끝점과도 겹치지 않는다.\n",
        "\n"
      ],
      "metadata": {
        "id": "8jl7nHwBGCSH"
      }
    },
    {
      "cell_type": "code",
      "source": [
        "s = input()\n",
        "stack = []\n",
        "cnt = 0\n",
        "for i in range(len(s)):\n",
        "    if s[i]=='(':\n",
        "        stack.append(s[i])\n",
        "    else:\n",
        "        stack.pop() # 밑에 똑같은 구문이 반복되게 들어간다면 여기에 적는게 어떨까\n",
        "        if s[i-1]=='(':  # 레이저\n",
        "            #stack.pop()\n",
        "            cnt+=len(stack)\n",
        "        else:  # 쇠막대기 끝지점\n",
        "            #stack.pop()\n",
        "            cnt+=1\n",
        "print(cnt)"
      ],
      "metadata": {
        "colab": {
          "base_uri": "https://localhost:8080/"
        },
        "id": "5Qga13QKGum8",
        "outputId": "af3b6a07-2d9c-4ff5-ff3a-6c1b63177fab"
      },
      "execution_count": null,
      "outputs": [
        {
          "output_type": "stream",
          "name": "stdout",
          "text": [
            "((()()))\n",
            "6\n"
          ]
        }
      ]
    },
    {
      "cell_type": "markdown",
      "source": [
        "### 3. 후위 표기식 만들기 : infix --> postfix|"
      ],
      "metadata": {
        "id": "3Pu6qxMRI7qc"
      }
    },
    {
      "cell_type": "markdown",
      "source": [
        "중위표기식 입력되면 후위표기식으로 변환하는 프로그램 작성하기  \n",
        "중위표기식 : 3+5  (연산자가 사이에 있는 것을 의미)  \n",
        "후위표기식 : 35+ (연산자가 피연산자 뒤에 있는 것을 의미)  \n",
        "ex) (3+5)*2 --> 35+2*"
      ],
      "metadata": {
        "id": "IEdgi4IqI_Lk"
      }
    },
    {
      "cell_type": "code",
      "source": [
        "a = input()\n",
        "stack = []\n",
        "res = ''\n",
        "\n",
        "for x in a:\n",
        "    if x.isdecimal():  # 숫자\n",
        "        res += x\n",
        "    else:  # 연산자 or 괄호\n",
        "        if x == '(':\n",
        "            stack.append(x)\n",
        "        elif x == '*' or x == '/':  #\n",
        "            while stack and (stack[-1] == '*' or stack[-1] == '/'):\n",
        "                res += stack.pop()\n",
        "            stack.append(x)\n",
        "        elif x == '+' or x == '-':\n",
        "            while stack and stack[-1] != '(': # 여는 괄호가 없다면 pop하기\n",
        "                res += stack.pop()\n",
        "            stack.append(x)\n",
        "        elif x == ')':\n",
        "            while stack and stack[-1] != '(':   #여는 괄호가 나올 때까지 pop하여 결과에 추가\n",
        "                res += stack.pop()\n",
        "            stack.pop()  # 여는 괄호 제거\n",
        "while stack:\n",
        "    res += stack.pop()\n",
        "print(res)"
      ],
      "metadata": {
        "colab": {
          "base_uri": "https://localhost:8080/"
        },
        "id": "JT1ynQrHQ6GA",
        "outputId": "ebbfa6f7-fb8e-43b0-a6d2-f53f78a08cf5"
      },
      "execution_count": null,
      "outputs": [
        {
          "output_type": "stream",
          "name": "stdout",
          "text": [
            "3+5*2/(7-2)\n",
            "352*72-/+\n"
          ]
        }
      ]
    },
    {
      "cell_type": "markdown",
      "source": [
        "### 4. 후위 (postfix) 연산"
      ],
      "metadata": {
        "id": "QWXNGe3fYcJ4"
      }
    },
    {
      "cell_type": "code",
      "source": [
        "a=input()\n",
        "stack=[]\n",
        "for x in a:\n",
        "    if x.isdecimal(): # 숫자\n",
        "        stack.append(int(x))\n",
        "    else: # 연산자\n",
        "        if x=='+':\n",
        "            n1=stack.pop()\n",
        "            n2=stack.pop()\n",
        "            stack.append(n2+n1)\n",
        "        elif x=='-':\n",
        "            n1=stack.pop()\n",
        "            n2=stack.pop()\n",
        "            stack.append(n2-n1)\n",
        "        elif x=='*':\n",
        "            n1=stack.pop()\n",
        "            n2=stack.pop()\n",
        "            stack.append(n2*n1)\n",
        "        elif x=='/':\n",
        "            n1=stack.pop()\n",
        "            n2=stack.pop()\n",
        "            stack.append(n2/n1)\n",
        "print(stack[0])"
      ],
      "metadata": {
        "colab": {
          "base_uri": "https://localhost:8080/"
        },
        "id": "DgN99P8DYf9a",
        "outputId": "a19bc0fe-129e-413f-ba32-14af10736fb9"
      },
      "execution_count": null,
      "outputs": [
        {
          "output_type": "stream",
          "name": "stdout",
          "text": [
            "352+*9-\n",
            "12\n"
          ]
        }
      ]
    },
    {
      "cell_type": "markdown",
      "source": [
        "# 큐 (Queue)"
      ],
      "metadata": {
        "id": "xdxMxIBQZwdu"
      }
    },
    {
      "cell_type": "markdown",
      "source": [
        "### 5. 공주 구하기"
      ],
      "metadata": {
        "id": "wYmG0_AxZ2UT"
      }
    },
    {
      "cell_type": "markdown",
      "source": [
        "왕자들을 나이순으로 번호 매김. 시계방향으로 동그랗게 앉게 한다.  \n",
        "한 왕자가 K를 외치면 그 왕자는 제외되고 원 밖으로 나오게 된다. 그리고 다음 왕자부터 1부터 시작하여 번호를 외친다. 마지막까지 남은 왕자가 공주를 구하러 갈 수 있다."
      ],
      "metadata": {
        "id": "m8rv1fcHhV2o"
      }
    },
    {
      "cell_type": "code",
      "source": [
        "from collections import deque\n",
        "n, k = map(int, input().split())\n",
        "dq = list(range(1, n+1)) # 1~8\n",
        "dq =deque(dq) # 리스트가 데크로 변환\n",
        "while dq:\n",
        "    for _ in range(k-1):\n",
        "        cur = dq.popleft()\n",
        "        dq.append(cur)\n",
        "    dq.popleft()\n",
        "    if len(dq)==1:\n",
        "        print(dq[0])\n",
        "        dq.popleft()"
      ],
      "metadata": {
        "colab": {
          "base_uri": "https://localhost:8080/"
        },
        "id": "ymcfcOCEiYLu",
        "outputId": "a99de070-0d09-4b2c-8440-0ca51812ea1d"
      },
      "execution_count": 1,
      "outputs": [
        {
          "output_type": "stream",
          "name": "stdout",
          "text": [
            "8 3\n",
            "7\n"
          ]
        }
      ]
    },
    {
      "cell_type": "markdown",
      "source": [
        "### 6. 응급실"
      ],
      "metadata": {
        "id": "s3elg8nOl1yg"
      }
    },
    {
      "cell_type": "markdown",
      "source": [
        "Q. N명의 대기목록 순서의 환자 위험도가 주어지면, 대기목록상의 M번째 환자는 몇 번째로 진료를 받는지 출력하시오.\n",
        "\n",
        "[조건]\n",
        "- 환자가 접수한 순서대로 목록에서 제일 앞에 있는 환자목록을 꺼낸다.  \n",
        "- 나머지 대기 목록에서 꺼낸 환자보다 위험도가 높은 환자가 존재하면 대기목록 제일 뒤로 다시 넣는다. 없다면 진료를 받는다.  "
      ],
      "metadata": {
        "id": "nfmdH9Njl2_s"
      }
    },
    {
      "cell_type": "code",
      "source": [
        "from collections import deque\n",
        "n, m = map(int, input().split())\n",
        "Q = [(pos, val) for pos, val in enumerate(list(map(int, input().split())))]\n",
        "Q = deque(Q)\n",
        "cnt=0\n",
        "while True:\n",
        "    cur=Q.popleft()\n",
        "    if any(cur[1] < x[1] for x in Q):\n",
        "        Q.append(cur)\n",
        "    else:\n",
        "        cnt+=1\n",
        "        if cur[0]==m:\n",
        "            break\n",
        "print(cnt)\n"
      ],
      "metadata": {
        "colab": {
          "base_uri": "https://localhost:8080/"
        },
        "id": "8Xlkm3rPmXNo",
        "outputId": "072963d4-bfa1-408b-cce7-9a0fb6346918"
      },
      "execution_count": 3,
      "outputs": [
        {
          "output_type": "stream",
          "name": "stdout",
          "text": [
            "5 2\n",
            "60 50 70 80 90\n",
            "3\n"
          ]
        }
      ]
    },
    {
      "cell_type": "markdown",
      "source": [
        "### 7. 교육과정 설계"
      ],
      "metadata": {
        "id": "5QCMkxMipWaU"
      }
    },
    {
      "cell_type": "markdown",
      "source": [
        "필수과목은 반드시 이수해야 하며 순서 정해져 있다.  \n",
        "Q. 필수과목순서가 주어지면 현수가 짠 N개의 수업설계가 잘된 것이면 \"YES\", 잘못된 것이면 \"NO\" 출력."
      ],
      "metadata": {
        "id": "dz6H_vsspZFE"
      }
    },
    {
      "cell_type": "code",
      "source": [
        "from collections import deque\n",
        "need = input()\n",
        "n = int(input())\n",
        "for i in range(n):\n",
        "    plan = input()\n",
        "    dq = deque(need)\n",
        "    for x in plan:\n",
        "        if x in dq:\n",
        "            if x != dq.popleft():\n",
        "                print(f'#{i+1} NO')\n",
        "                break\n",
        "    else: #순서가 통과된 경우\n",
        "        if len(dq)==0:\n",
        "            print(f'#{i+1} YES')\n",
        "        else:\n",
        "            print(f'#{i+1} NO')"
      ],
      "metadata": {
        "colab": {
          "base_uri": "https://localhost:8080/"
        },
        "id": "97XJpnNRpwUC",
        "outputId": "789fc27c-1fc3-4cf3-8167-c4b233bd878e"
      },
      "execution_count": 5,
      "outputs": [
        {
          "output_type": "stream",
          "name": "stdout",
          "text": [
            "CBA\n",
            "3\n",
            "CBDAGE\n",
            "#1 YES\n",
            "FGCDAB\n",
            "#2 NO\n",
            "CTSBDEA\n",
            "#3 YES\n"
          ]
        }
      ]
    },
    {
      "cell_type": "markdown",
      "source": [
        "# 해쉬 (Hash)"
      ],
      "metadata": {
        "id": "vfEgoy1EswPW"
      }
    },
    {
      "cell_type": "markdown",
      "source": [
        "### 8. 단어찾기"
      ],
      "metadata": {
        "id": "hZcNROU7sqxZ"
      }
    },
    {
      "cell_type": "markdown",
      "source": [
        "현수는 시를 쓰기 전에 시에 쓰일 단어를 미리 노트에 적어둡니다.  \n",
        "N개의 단어를 적었는데 시에 쓰지 않은 단어가 하나 있습니다. 찾아주세요."
      ],
      "metadata": {
        "id": "0lfnor08s26J"
      }
    },
    {
      "cell_type": "markdown",
      "source": [
        "dict()  \n",
        "p.items()"
      ],
      "metadata": {
        "id": "RKgfOphhvgVo"
      }
    },
    {
      "cell_type": "code",
      "source": [
        "n = int(input())\n",
        "p = dict()\n",
        "for i in range(n):\n",
        "    word=input()\n",
        "    p[word]=1\n",
        "for i in range(n-1):\n",
        "    word=input()\n",
        "    p[word]=0\n",
        "for key, val in p.items():\n",
        "    if val==1:\n",
        "        print(key)\n",
        "        break"
      ],
      "metadata": {
        "colab": {
          "base_uri": "https://localhost:8080/"
        },
        "id": "FIqwab7HuUKq",
        "outputId": "b382ae2c-7aaf-4d53-84f3-fe925f4684f3"
      },
      "execution_count": 6,
      "outputs": [
        {
          "output_type": "stream",
          "name": "stdout",
          "text": [
            "5\n",
            "big\n",
            "good\n",
            "sky\n",
            "blue\n",
            "moon\n",
            "sky\n",
            "good\n",
            "moon\n",
            "big\n",
            "blue\n"
          ]
        }
      ]
    },
    {
      "cell_type": "markdown",
      "source": [
        "### 9. 아나그램 : 구글 인터뷰 문제"
      ],
      "metadata": {
        "id": "woputs3Xvsb3"
      }
    },
    {
      "cell_type": "markdown",
      "source": [
        "Anagram : 두 문자열이 알파벳의 나열 순서를 다르지만 구성이 일치하면 두 단어는 아나그램이라고 한다.  \n",
        "Q. 길이가 같은 두 개의 단어가 주어지면 두 단어가 아나그램인지 판별하시오. (아나그램 판별시 대소문자가 구분됩니다.)"
      ],
      "metadata": {
        "id": "FkXDwoHVvyV_"
      }
    },
    {
      "cell_type": "code",
      "source": [
        "a=input()\n",
        "b=input()\n",
        "str1=dict()\n",
        "str2=dict()\n",
        "for x in a:\n",
        "    str1[x] = str1.get(x, 0)+1\n",
        "for x in b:\n",
        "    str2[x] = str2.get(x, 0)+1\n",
        "\n",
        "for i in str1.keys():\n",
        "    if i in str2.keys():\n",
        "        if str1[i]!=str2[i]:\n",
        "            print(\"NO\")\n",
        "            break\n",
        "    else:\n",
        "        print(\"NO\")\n",
        "        break\n",
        "else:\n",
        "    print(\"YES\")"
      ],
      "metadata": {
        "colab": {
          "base_uri": "https://localhost:8080/"
        },
        "id": "yB4CQpkbwUMK",
        "outputId": "5c84b0cf-a3c8-418b-b804-8e2d88039cd4"
      },
      "execution_count": 7,
      "outputs": [
        {
          "output_type": "stream",
          "name": "stdout",
          "text": [
            "AbaAeCe\n",
            "baeeACA\n",
            "YES\n"
          ]
        }
      ]
    },
    {
      "cell_type": "code",
      "source": [
        "a=input()\n",
        "b=input()\n",
        "s=dict()\n",
        "s=dict()\n",
        "for x in a:\n",
        "    s[x] = s.get(x, 0)+1\n",
        "for x in b:\n",
        "    s[x] = s.get(x, 0)-1\n",
        "\n",
        "for x in a:\n",
        "    if s.get(x) > 0:\n",
        "        print(\"NO\")\n",
        "        break\n",
        "else:\n",
        "    print(\"YES\")"
      ],
      "metadata": {
        "id": "Z-VPeqfHzQGc"
      },
      "execution_count": null,
      "outputs": []
    },
    {
      "cell_type": "markdown",
      "source": [
        "* 리스트 해쉬"
      ],
      "metadata": {
        "id": "opS5Gf8Hz1kN"
      }
    },
    {
      "cell_type": "code",
      "source": [
        "a=input()\n",
        "b=input()\n",
        "str1=[0]*52\n",
        "str2=[0]*52\n",
        "for x in a:\n",
        "    if x.isupper():\n",
        "        str1[ord(x)-65]+=1\n",
        "    else:\n",
        "        str1[ord(x)-71]+=1\n",
        "for x in b:\n",
        "    if x.isupper():\n",
        "        str2[ord(x)-65]+=1\n",
        "    else:\n",
        "        str2[ord(x)-71]+=1\n",
        "\n",
        "for i in range(52):\n",
        "    if str1[i]!=str2[i]:\n",
        "        print(\"NO\")\n",
        "        break\n",
        "else:\n",
        "    print(\"YES\")"
      ],
      "metadata": {
        "id": "Cd-vrdIOz6YX"
      },
      "execution_count": null,
      "outputs": []
    },
    {
      "cell_type": "markdown",
      "source": [
        "### 10. 최소 힙"
      ],
      "metadata": {
        "id": "LuTkSAG-u2s4"
      }
    },
    {
      "cell_type": "markdown",
      "source": [
        "최소힙은 완전이진트리로 구현된 자료구조입니다. 부모 노드값이 자식 노드값보다 작게 트리를 구성하는 것입니다.  \n",
        "최소힙 자료를 이용하여 다음과 같은 연산을 하는 프로그램 만들기  \n",
        "[조건]\n",
        "- 자연수가 입력되면 최소힙에 입력한다.\n",
        "- 0 입력되면 최소힙에서 최소값 꺼내어 출력한다 (출력할 자료 없으면 -1 출력)\n",
        "- -1 입력되면 프로그램 종료"
      ],
      "metadata": {
        "id": "0ZJSlnN9u7bR"
      }
    },
    {
      "cell_type": "code",
      "source": [
        "import heapq as hq\n",
        "a=[]\n",
        "while True:\n",
        "    n=int(input())\n",
        "    if n==-1:\n",
        "        break\n",
        "    if n==0:\n",
        "        if len(a)==0:\n",
        "            print(-1)\n",
        "        else:\n",
        "            print(hq.heappop(a))\n",
        "    else:\n",
        "        hq.heappush(a, n)"
      ],
      "metadata": {
        "colab": {
          "base_uri": "https://localhost:8080/"
        },
        "id": "bJ_0g6Muvo-T",
        "outputId": "d3c9d1f8-20f7-4124-eb6d-fc0cbac5c9d2"
      },
      "execution_count": 2,
      "outputs": [
        {
          "name": "stdout",
          "output_type": "stream",
          "text": [
            "5\n",
            "3\n",
            "6\n",
            "0\n",
            "3\n",
            "5\n",
            "0\n",
            "5\n",
            "2\n",
            "4\n",
            "0\n",
            "2\n",
            "-1\n"
          ]
        }
      ]
    },
    {
      "cell_type": "markdown",
      "source": [
        "### 11. 최대 힙"
      ],
      "metadata": {
        "id": "URO64LmkyOfq"
      }
    },
    {
      "cell_type": "markdown",
      "source": [
        "최소힙이 기본으로 진행되므로 최대힙으로 만들기 위해서는 마이너스(-)를 사용해서 최소힙을 한 이후 heappop하고 나서 다시 마이너스를 붙이면 최대힙이 된다."
      ],
      "metadata": {
        "id": "JlKIl1d-yvSm"
      }
    },
    {
      "cell_type": "code",
      "source": [
        "import heapq as hq\n",
        "a=[]\n",
        "while True:\n",
        "    n=int(input())\n",
        "    if n==-1: #프로그램 종료\n",
        "        break\n",
        "    if n==0:\n",
        "        if len(a)==0: #출력할 자료 없으면 -1 출력\n",
        "            print(-1)\n",
        "        else:\n",
        "            print(-hq.heappop(a))\n",
        "    else:\n",
        "        hq.heappush(a, -n)"
      ],
      "metadata": {
        "colab": {
          "base_uri": "https://localhost:8080/"
        },
        "id": "porOwC9rx4Rt",
        "outputId": "724e2814-6818-4c35-e60c-1bb15b9e068d"
      },
      "execution_count": 3,
      "outputs": [
        {
          "name": "stdout",
          "output_type": "stream",
          "text": [
            "5\n",
            "3\n",
            "6\n",
            "0\n",
            "6\n",
            "5\n",
            "0\n",
            "5\n",
            "2\n",
            "4\n",
            "0\n",
            "5\n",
            "-1\n"
          ]
        }
      ]
    }
  ]
}
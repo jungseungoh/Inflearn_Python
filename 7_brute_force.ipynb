{
  "nbformat": 4,
  "nbformat_minor": 0,
  "metadata": {
    "colab": {
      "provenance": [],
      "authorship_tag": "ABX9TyP0jxUVC1E7mduJdEzYHucB",
      "include_colab_link": true
    },
    "kernelspec": {
      "name": "python3",
      "display_name": "Python 3"
    },
    "language_info": {
      "name": "python"
    }
  },
  "cells": [
    {
      "cell_type": "markdown",
      "metadata": {
        "id": "view-in-github",
        "colab_type": "text"
      },
      "source": [
        "<a href=\"https://colab.research.google.com/github/jungseungoh/Inflearn_Python/blob/main/7_brute_force.ipynb\" target=\"_parent\"><img src=\"https://colab.research.google.com/assets/colab-badge.svg\" alt=\"Open In Colab\"/></a>"
      ]
    },
    {
      "cell_type": "markdown",
      "source": [
        "# 완전탐색 (백트랙킹, 상태트리와 CUT EDGE) , DFS(깊이우선탐색) 기초"
      ],
      "metadata": {
        "id": "Q7SFlSHvXtbr"
      }
    },
    {
      "cell_type": "markdown",
      "source": [
        "### [재귀함수와 스택]\n",
        "- 스택 프레임 (매개변수/지역변수/복귀주소)"
      ],
      "metadata": {
        "id": "qOb2BeKeXvXy"
      }
    },
    {
      "cell_type": "code",
      "source": [
        "def DFS(x):\n",
        "    if x>0:\n",
        "        #print(x, end=' ')   -> 3 2 1\n",
        "        DFS(x-1)\n",
        "        print(x, end=' ')   #-> 1 2 3  스택으로 들어가기 때문에!\n",
        "\n",
        "if __name__==\"__main__\":\n",
        "    n=int(input())\n",
        "    DFS(n)"
      ],
      "metadata": {
        "colab": {
          "base_uri": "https://localhost:8080/"
        },
        "id": "nDznYDCyX_R8",
        "outputId": "38cb1e3f-b3e4-41a0-ba58-d68826dadd92"
      },
      "execution_count": null,
      "outputs": [
        {
          "output_type": "stream",
          "name": "stdout",
          "text": [
            "3\n",
            "3 2 1 "
          ]
        }
      ]
    },
    {
      "cell_type": "markdown",
      "source": [
        "### 1. 재귀함수를 이용한 이진수 출력"
      ],
      "metadata": {
        "id": "NSZ_f8ksb2Eb"
      }
    },
    {
      "cell_type": "markdown",
      "source": [
        "입력 : 10진수 -> 변환 -> 출력 : 2진수  \n",
        "(단, 재귀함수 이용해서 출력)\n"
      ],
      "metadata": {
        "id": "GWrSfmPQb5Cb"
      }
    },
    {
      "cell_type": "markdown",
      "source": [
        "stack  \n",
        "[ D(11)-5 -> D(5)-5 -> D(2)-5 -> D(1)-5 -> D(0)  \n",
        "D(0)에서 x==0이므로 수행 종료. 이제 최상단에 있는 함수 마저 실행.  \n",
        "그 전에 못했던 일 수행 (=백트랙킹)"
      ],
      "metadata": {
        "id": "JU3T8iQrC3Xj"
      }
    },
    {
      "cell_type": "code",
      "source": [
        "def DFS(x):\n",
        "    if x==0:\n",
        "        return\n",
        "    else:\n",
        "        DFS(x//2)\n",
        "        print(x%2, end='')\n",
        "\n",
        "\n",
        "if __name__ == \"__main__\":\n",
        "    n=int(input())\n",
        "    DFS(n)"
      ],
      "metadata": {
        "colab": {
          "base_uri": "https://localhost:8080/"
        },
        "id": "fklI5yZDcGt1",
        "outputId": "4b257c60-2b0b-45b3-99e3-c76466c04e82"
      },
      "execution_count": null,
      "outputs": [
        {
          "output_type": "stream",
          "name": "stdout",
          "text": [
            "11\n",
            "1011"
          ]
        }
      ]
    },
    {
      "cell_type": "markdown",
      "source": [
        "### 2. 이진트리 순회 (DFS:깊이우선탐색)"
      ],
      "metadata": {
        "id": "x3CgEPlCDuuv"
      }
    },
    {
      "cell_type": "markdown",
      "source": [
        "전위순회 & 후위순회 연습하기\n",
        "\n",
        "- 전위순회 : 부모 -> 왼쪽 -> 오른쪽  \n",
        "- 중위순회 : 왼쪽 -> 부모 -> 오른쪽\n",
        "- 후위순회 : 왼쪽 -> 오른쪽 -> 부모"
      ],
      "metadata": {
        "id": "_xXV6_0_D6_i"
      }
    },
    {
      "cell_type": "markdown",
      "source": [
        "![image.png](data:image/png;base64,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)"
      ],
      "metadata": {
        "id": "yaNxL1R8D4el"
      }
    },
    {
      "cell_type": "code",
      "source": [
        "# 깊이우선탐색 초보자 구조 : if ~ else구문\n",
        "def DFS(v):\n",
        "    if v>7:\n",
        "        return  #함수종료\n",
        "    else:\n",
        "        #print(v, end=' ') # 전위순회 -> 순회방식 대표!\n",
        "        DFS(v*2)   #왼쪽 노드\n",
        "        #print(v, end=' ') # 중위순회 -> 거의 안쓰임.\n",
        "        DFS(v*2+1) #오른쪽 노드\n",
        "        print(v, end=' ') # 후위순회 -> 병합정렬이 대표적!\n",
        "\n",
        "\n",
        "if __name__ == \"__main__\":\n",
        "     DFS(1)"
      ],
      "metadata": {
        "colab": {
          "base_uri": "https://localhost:8080/"
        },
        "id": "Op0ggG5uDznx",
        "outputId": "906f97e0-ed29-4371-ee14-7c2e0555a67f"
      },
      "execution_count": null,
      "outputs": [
        {
          "output_type": "stream",
          "name": "stdout",
          "text": [
            "4 5 2 6 7 3 1 "
          ]
        }
      ]
    },
    {
      "cell_type": "markdown",
      "source": [
        "### 3. 부분집합 구하기 (DFS:깊이우선탐색)"
      ],
      "metadata": {
        "id": "0GWfanBeNr0I"
      }
    },
    {
      "cell_type": "markdown",
      "source": [
        "자연수 N 주어지면, 1 ~ N까지의 원소를 갖는 집합의 부분집합 모두 출력."
      ],
      "metadata": {
        "id": "uykQ129KNwC7"
      }
    },
    {
      "cell_type": "markdown",
      "source": [
        "* DFS 잘할려면 상태트리 구성을 잘해야한다."
      ],
      "metadata": {
        "id": "vQApOiW7Rx2F"
      }
    },
    {
      "cell_type": "code",
      "source": [
        "def DFS(v):\n",
        "    if v==n+1:\n",
        "        for i in range(1, n+1):\n",
        "            if ch[i]==1:\n",
        "                print(i, end=' ')\n",
        "        print() # 줄바꿈\n",
        "    else:\n",
        "        ch[v]=1\n",
        "        DFS(v+1)\n",
        "        ch[v]=0\n",
        "        DFS(v+1)\n",
        "\n",
        "if __name__ == '__main__':\n",
        "    n=int(input())\n",
        "    ch=[0]*(n+1)\n",
        "    DFS(1)"
      ],
      "metadata": {
        "colab": {
          "base_uri": "https://localhost:8080/"
        },
        "id": "URrLOS3EN09Z",
        "outputId": "86013a32-0d4f-4dfb-ac67-5a75d2d1e9a5"
      },
      "execution_count": null,
      "outputs": [
        {
          "output_type": "stream",
          "name": "stdout",
          "text": [
            "3\n",
            "1 2 3 \n",
            "1 2 \n",
            "1 3 \n",
            "1 \n",
            "2 3 \n",
            "2 \n",
            "3 \n",
            "\n"
          ]
        }
      ]
    },
    {
      "cell_type": "markdown",
      "source": [
        "### 4. 합이 같은 부분집합 (DFS:깊이우선탐색)"
      ],
      "metadata": {
        "id": "qozNgT9ZXxeW"
      }
    },
    {
      "cell_type": "markdown",
      "source": [
        "두 개의 부분집합으로 나누었을 때, 원소의 합이 서로 같으면 YES, 아니면 NO 출력."
      ],
      "metadata": {
        "id": "Hx-COglnX1Vq"
      }
    },
    {
      "cell_type": "code",
      "source": [
        "import sys\n",
        "\n",
        "def DFS(L, sum):  # L : 인덱스번호 sum : 내가 만든 부분집합의 합\n",
        "    if sum > total//2:\n",
        "        return  # 만든 부분집합의 합이 총합의 반절을 넘어버리면 굳이 할 필요 없어. 함수종료\n",
        "    if L==n:\n",
        "        if sum==(total-sum):\n",
        "            print(\"YES\")\n",
        "            sys.exit(0)\n",
        "    else:\n",
        "        DFS(L+1, sum+a[L]) # 사용하는 경우\n",
        "        DFS(L+1, sum)      # 사용안하는 경우\n",
        "\n",
        "\n",
        "if __name__ ==\"__main__\":\n",
        "    n=int(input())\n",
        "    a=list(map(int, input().split()))\n",
        "    total=sum(a)\n",
        "    DFS(0, 0)\n",
        "    print(\"NO\")"
      ],
      "metadata": {
        "colab": {
          "base_uri": "https://localhost:8080/",
          "height": 187
        },
        "id": "RNQSzJy4YASv",
        "outputId": "161bc701-b41e-4c20-d788-e9436c77bd77"
      },
      "execution_count": null,
      "outputs": [
        {
          "output_type": "stream",
          "name": "stdout",
          "text": [
            "6\n",
            "1 3 5 6 7 10\n",
            "YES\n"
          ]
        },
        {
          "output_type": "error",
          "ename": "SystemExit",
          "evalue": "0",
          "traceback": [
            "An exception has occurred, use %tb to see the full traceback.\n",
            "\u001b[0;31mSystemExit\u001b[0m\u001b[0;31m:\u001b[0m 0\n"
          ]
        },
        {
          "output_type": "stream",
          "name": "stderr",
          "text": [
            "/usr/local/lib/python3.10/dist-packages/IPython/core/interactiveshell.py:3561: UserWarning: To exit: use 'exit', 'quit', or Ctrl-D.\n",
            "  warn(\"To exit: use 'exit', 'quit', or Ctrl-D.\", stacklevel=1)\n"
          ]
        }
      ]
    },
    {
      "cell_type": "markdown",
      "source": [
        "### [전역변수 & 지역변수]\n"
      ],
      "metadata": {
        "id": "yQW8jxLqfg8d"
      }
    },
    {
      "cell_type": "code",
      "source": [
        "def DFS1():\n",
        "    cnt=3 #지역변수   (지역변수가 우선)\n",
        "    print(cnt)\n",
        "\n",
        "def DFS2():\n",
        "    global cnt    # 지역변수로 언어번역이 되지 않게 하기 위해서 글로벌 사용!\n",
        "    if cnt==5:\n",
        "        cnt+=1    # cnt = 이러면 지역변수가 된다!\n",
        "        print(cnt)\n",
        "\n",
        "if __name__==\"__main__\":\n",
        "    cnt=5 #전역변수 선언   전역변수는 모든 함수가 접근 가능!\n",
        "    DFS1()\n",
        "    DFS2()\n",
        "    print(cnt)"
      ],
      "metadata": {
        "colab": {
          "base_uri": "https://localhost:8080/"
        },
        "id": "u-qC7pHafqQi",
        "outputId": "ca90fab1-346d-4fce-ba81-8d828509d5e3"
      },
      "execution_count": null,
      "outputs": [
        {
          "output_type": "stream",
          "name": "stdout",
          "text": [
            "3\n",
            "6\n",
            "6\n"
          ]
        }
      ]
    },
    {
      "cell_type": "markdown",
      "source": [
        "### 5. 바둑이 승차 (DFS:깊이우선탐색)"
      ],
      "metadata": {
        "id": "MlgnfQWDeQ2p"
      }
    },
    {
      "cell_type": "markdown",
      "source": [
        "C kg 넘으면 트럭에 태울 수가 없다. C를 넘지 않으면서 가장 무겁게 태우고 싶다.  \n",
        "N마리의 바둑이와 각 바둑이의 무게 W가 주어지면, 태울 수 있는 가장 무거운 무게 구하시오."
      ],
      "metadata": {
        "id": "pENQSPCdeUh8"
      }
    },
    {
      "cell_type": "code",
      "source": [
        "def DFS(L, sum, tsum):\n",
        "    global res\n",
        "    if sum+(total-tsum) < res:  # 가지치기 (cut-edge)\n",
        "        return\n",
        "    if sum > c:\n",
        "        return\n",
        "    if L==n:\n",
        "        if sum > res:\n",
        "            res=sum\n",
        "    else:\n",
        "        DFS(L+1, sum+a[L], tsum+a[L])  # tsum+a[L] : 부분집합을 만든다 안만든다 상관없이 판단한 무게\n",
        "        DFS(L+1, sum, tsum+a[L])\n",
        "\n",
        "if __name__ == \"__main__\":\n",
        "    c, n = map(int, input().split())  # c : 무게제한 n : 바둑이 마리 수\n",
        "    a = [0]*n\n",
        "    res=-2147000000\n",
        "    for i in range(n):\n",
        "        a[i]=int(input())\n",
        "    total=sum(a)\n",
        "    DFS(0,0,0)\n",
        "    print(res)"
      ],
      "metadata": {
        "colab": {
          "base_uri": "https://localhost:8080/"
        },
        "id": "2OvGqxUqfakf",
        "outputId": "6cd958f5-5a2e-446a-86b5-36fb1354dc85"
      },
      "execution_count": null,
      "outputs": [
        {
          "output_type": "stream",
          "name": "stdout",
          "text": [
            "259 5\n",
            "81\n",
            "58\n",
            "42\n",
            "33\n",
            "61\n",
            "242\n"
          ]
        }
      ]
    },
    {
      "cell_type": "markdown",
      "source": [
        "### 6. 중복순열 구하기"
      ],
      "metadata": {
        "id": "Pt-ThKiPn86l"
      }
    },
    {
      "cell_type": "markdown",
      "source": [
        "1 ~ N까지 번호가 적힌 구슬이 있습니다. 이 중 <b>중복</b>을 허락하여 M번을 뽑아 일렬로 나열하는 방법을 모두 출력하시오.\n",
        "- 출력순서 : 오름차순"
      ],
      "metadata": {
        "id": "0uPkFmscs5N6"
      }
    },
    {
      "cell_type": "code",
      "source": [
        "def DFS(L):\n",
        "    global cnt\n",
        "    if L==m:\n",
        "        for j in range(m):\n",
        "            print(res[j], end=' ')\n",
        "        print()\n",
        "        cnt+=1\n",
        "    else:\n",
        "        for i in range(1, n+1):\n",
        "            res[L]=i\n",
        "            DFS(L+1)\n",
        "\n",
        "if __name__==\"__main__\":\n",
        "    n,m = map(int, input().split())\n",
        "    res=[0]*m\n",
        "    cnt=0\n",
        "    DFS(0)\n",
        "    print(cnt)"
      ],
      "metadata": {
        "colab": {
          "base_uri": "https://localhost:8080/"
        },
        "id": "UOjhw7RYtAnz",
        "outputId": "06456d3b-4665-4dea-8bc3-0ce90613b61f"
      },
      "execution_count": null,
      "outputs": [
        {
          "output_type": "stream",
          "name": "stdout",
          "text": [
            "3 2\n",
            "1 1 \n",
            "1 2 \n",
            "1 3 \n",
            "2 1 \n",
            "2 2 \n",
            "2 3 \n",
            "3 1 \n",
            "3 2 \n",
            "3 3 \n",
            "9\n"
          ]
        }
      ]
    },
    {
      "cell_type": "markdown",
      "source": [
        "### 7. 동전 교환"
      ],
      "metadata": {
        "id": "eftcQpiFylE3"
      }
    },
    {
      "cell_type": "markdown",
      "source": [
        "여러 단위의 동전들이 있을 때, 거스름돈을 가장 적은 수의 동전으로 교환해주려면 어떻게 주면 되는가? (각 단위의 동전은 무한정 쓸 수 있다.)\n",
        "- 각 동전의 종류는 100원을 넘지 않는다."
      ],
      "metadata": {
        "id": "g6jSTLsGym9X"
      }
    },
    {
      "cell_type": "markdown",
      "source": [
        "DFS 사용해가지고 모든 부분집합을 구하고 sum==m 의 부분집합 개수 출력"
      ],
      "metadata": {
        "id": "yRUhnuy8y6kg"
      }
    },
    {
      "cell_type": "code",
      "source": [
        "def DFS(L, sum):  # Lv이 곧 동전의 사용 개수\n",
        "    global res\n",
        "    if L > res:  # 최소 레벨이 결정되었는데 더 내려가서 찾아도 의미가 없다.\n",
        "        return\n",
        "    if sum > m:\n",
        "        return\n",
        "    if sum==m:\n",
        "        if L < res:\n",
        "            res=L\n",
        "    else:\n",
        "        for i in range(n):\n",
        "            DFS(L+1, sum+a[i])\n",
        "\n",
        "\n",
        "if __name__==\"__main__\":\n",
        "    n=int(input())\n",
        "    a=list(map(int, input().split()))\n",
        "    m=int(input())\n",
        "    res=2147000000\n",
        "    a.sort(reverse=True) # 최소 개수로 구해야 하니 큰 동전으로 가는게 낫다.\n",
        "    DFS(0,0)\n",
        "    print(res)"
      ],
      "metadata": {
        "colab": {
          "base_uri": "https://localhost:8080/"
        },
        "id": "uIvPf-LezDty",
        "outputId": "dd4c3244-eac8-44bd-d899-10d8e580d4ae"
      },
      "execution_count": null,
      "outputs": [
        {
          "output_type": "stream",
          "name": "stdout",
          "text": [
            "3\n",
            "1 2 5\n",
            "15\n",
            "3\n"
          ]
        }
      ]
    },
    {
      "cell_type": "markdown",
      "source": [
        "### 8. 순열 구하기"
      ],
      "metadata": {
        "id": "_TmbSrEq2rLn"
      }
    },
    {
      "cell_type": "markdown",
      "source": [
        "1 ~ N까지의 구슬이 있습니다. 이 중에서 M개를 뽑아 일렬로 나열하는 방법 모두 출력하시오.\n",
        "- 출력순서는 오름차순으로 출력."
      ],
      "metadata": {
        "id": "R6r-7-gM2svZ"
      }
    },
    {
      "cell_type": "code",
      "source": [
        "def DFS(L):\n",
        "    global cnt\n",
        "    if L==m:\n",
        "        for j in range(L):\n",
        "            print(res[j], end=' ')\n",
        "        print()\n",
        "        cnt+=1\n",
        "    else:\n",
        "        for i in range(1, n+1):\n",
        "            if ch[i]==0:\n",
        "                ch[i]=1\n",
        "                res[L]=i\n",
        "                DFS(L+1)  # 기준\n",
        "                ch[i]=0   # 기준 아래는 백하고 되돌아온다.\n",
        "\n",
        "if __name__==\"__main__\":\n",
        "    n,m = map(int, input().split())\n",
        "    res=[0]*m\n",
        "    ch=[0]*(n+1)  # 중복 방지를 위한 체크리스트\n",
        "    cnt=0\n",
        "    DFS(0)\n",
        "    print(cnt)"
      ],
      "metadata": {
        "colab": {
          "base_uri": "https://localhost:8080/"
        },
        "id": "_3FIIAfA3CVu",
        "outputId": "6ccbfe55-7d77-4cc8-e67e-ee88409ddc77"
      },
      "execution_count": null,
      "outputs": [
        {
          "output_type": "stream",
          "name": "stdout",
          "text": [
            "3 2\n",
            "1 2 \n",
            "1 3 \n",
            "2 1 \n",
            "2 3 \n",
            "3 1 \n",
            "3 2 \n",
            "6\n"
          ]
        }
      ]
    },
    {
      "cell_type": "markdown",
      "source": [
        "### 9. 수열 추측하기 (순열 / 파스칼 응용)"
      ],
      "metadata": {
        "id": "5AIEAGp2wKzm"
      }
    },
    {
      "cell_type": "code",
      "source": [
        "import sys\n",
        "def DFS(L, sum):\n",
        "    if L==n and sum==f:\n",
        "        for x in p:\n",
        "            print(x, end=' ')\n",
        "        sys.exit(0)\n",
        "    else:\n",
        "        for i in range(1, n+1):\n",
        "            if ch[i]==0:\n",
        "                ch[i]=1\n",
        "                p[L]=i\n",
        "                DFS(L+1, sum+(p[L]*b[L]))\n",
        "                ch[i]=0\n",
        "\n",
        "if __name__ == \"__main__\":\n",
        "    n, f = map(int, input().split())\n",
        "    p=[0]*n #순열\n",
        "    b=[1]*n #이항계수\n",
        "    ch=[0]*(n+1) # 중복 방지\n",
        "    for i in range(1, n):\n",
        "        b[i]=b[i-1]*(n-i)//i\n",
        "    DFS(0,0)"
      ],
      "metadata": {
        "id": "7UgESG4awQEJ",
        "colab": {
          "base_uri": "https://localhost:8080/",
          "height": 168
        },
        "outputId": "04315484-9901-4b2e-e413-ce54aecbab14"
      },
      "execution_count": null,
      "outputs": [
        {
          "output_type": "stream",
          "name": "stdout",
          "text": [
            "4 16\n",
            "3 1 2 4 "
          ]
        },
        {
          "output_type": "error",
          "ename": "SystemExit",
          "evalue": "0",
          "traceback": [
            "An exception has occurred, use %tb to see the full traceback.\n",
            "\u001b[0;31mSystemExit\u001b[0m\u001b[0;31m:\u001b[0m 0\n"
          ]
        },
        {
          "output_type": "stream",
          "name": "stderr",
          "text": [
            "/usr/local/lib/python3.10/dist-packages/IPython/core/interactiveshell.py:3561: UserWarning: To exit: use 'exit', 'quit', or Ctrl-D.\n",
            "  warn(\"To exit: use 'exit', 'quit', or Ctrl-D.\", stacklevel=1)\n"
          ]
        }
      ]
    },
    {
      "cell_type": "markdown",
      "source": [
        "###9-1.수열 추측하기 (라이브러리 이용한 버전)"
      ],
      "metadata": {
        "id": "uSGVr9JNNIQM"
      }
    },
    {
      "cell_type": "code",
      "source": [
        "import itertools as it  # 순열 or 조합을 자동으로 구해줌\n",
        "n, f = map(int, input().split())\n",
        "b=[1]*n\n",
        "for i in range(1, n):\n",
        "    b[i]=b[i-1]*(n-i)/i\n",
        "a=list(range(1,n+1))\n",
        "for tmp in it.permutations(a):  # 순열\n",
        "    sum=0\n",
        "    for L, x in enumerate(tmp):\n",
        "        sum+=(x*b[L])\n",
        "    if sum==f:\n",
        "        for x in tmp:\n",
        "            print(x, end=' ')\n",
        "        break"
      ],
      "metadata": {
        "id": "KJl-H59am0So",
        "colab": {
          "base_uri": "https://localhost:8080/"
        },
        "outputId": "bae944ad-798e-4a6d-e774-6fc054ccc0b6"
      },
      "execution_count": null,
      "outputs": [
        {
          "output_type": "stream",
          "name": "stdout",
          "text": [
            "4 16\n",
            "3 1 2 4 "
          ]
        }
      ]
    },
    {
      "cell_type": "markdown",
      "source": [
        "### 10. 조합 구하기 (DFS)"
      ],
      "metadata": {
        "id": "9DLFOP73iban"
      }
    },
    {
      "cell_type": "markdown",
      "source": [
        "1 ~ N까지 구슬이 있습니다. 이 중에서 M개를 뽑는 방법의 수를 출력하시오"
      ],
      "metadata": {
        "id": "r6aE8IfKieaq"
      }
    },
    {
      "cell_type": "code",
      "source": [
        "def DFS(L, s):\n",
        "    global cnt\n",
        "    if L==m:\n",
        "        for j in range(L):\n",
        "            print(res[j], end=' ')\n",
        "        cnt+=1\n",
        "        print()\n",
        "    else:\n",
        "        for i in range(s, n+1):\n",
        "            res[L]=i\n",
        "            DFS(L+1, i+1)\n",
        "\n",
        "if __name__ == \"__main__\":\n",
        "    n, m = map(int,input().split())\n",
        "    res = [0]*(n+1)\n",
        "    cnt = 0\n",
        "    DFS(0,1)\n",
        "    print(cnt)"
      ],
      "metadata": {
        "colab": {
          "base_uri": "https://localhost:8080/"
        },
        "id": "COw3yZpKioGB",
        "outputId": "c9664967-c113-41a6-c9c4-d216cd8de393"
      },
      "execution_count": null,
      "outputs": [
        {
          "output_type": "stream",
          "name": "stdout",
          "text": [
            "4 2\n",
            "1 2 \n",
            "1 3 \n",
            "1 4 \n",
            "2 3 \n",
            "2 4 \n",
            "3 4 \n",
            "6\n"
          ]
        }
      ]
    },
    {
      "cell_type": "markdown",
      "source": [
        "### 11. 수들의 조합 (DFS)"
      ],
      "metadata": {
        "id": "aeROcTPKkkpg"
      }
    },
    {
      "cell_type": "markdown",
      "source": [
        "N개의 정수 중에서 K개를 뽑는 조합의 합이 임의의 정수 M의 배수인 개수는 몇 개인지 출력하시오.\n",
        "\n",
        "ex) 2 4 5 8 12 -> 3개 뽑은 조합의 합 : 6 -> 6의 배수인 조합 찾으면 4,8,12  / 2,4,12 : 2가지"
      ],
      "metadata": {
        "id": "vSDRuEhSkn1N"
      }
    },
    {
      "cell_type": "code",
      "source": [
        "def DFS(L, s, sum):\n",
        "    global cnt\n",
        "    if L==k:\n",
        "        if sum%m==0:\n",
        "            cnt+=1\n",
        "    else:\n",
        "        for i in range(s, n):\n",
        "            DFS(L+1, i+1, sum+a[i])\n",
        "\n",
        "if __name__ == \"__main__\":\n",
        "    n, k = map(int,input().split())\n",
        "    a = list(map(int, input().split())) # 0 ~ n-1까지 들어있다.\n",
        "    m = int(input())\n",
        "    cnt=0\n",
        "    DFS(0,0,0)\n",
        "    print(cnt)"
      ],
      "metadata": {
        "colab": {
          "base_uri": "https://localhost:8080/"
        },
        "id": "Rge6WVVsk_Jc",
        "outputId": "538ddc5f-9448-461c-e74b-7a0e7e6b8e97"
      },
      "execution_count": null,
      "outputs": [
        {
          "output_type": "stream",
          "name": "stdout",
          "text": [
            "5 3\n",
            "2 4 5 8 12\n",
            "6\n",
            "2\n"
          ]
        }
      ]
    },
    {
      "cell_type": "markdown",
      "source": [
        "###11-1.수들의 조합 (라이브러리 이용한 버전)"
      ],
      "metadata": {
        "id": "iQSI1lmIMia-"
      }
    },
    {
      "cell_type": "code",
      "source": [
        "import itertools as it\n",
        "n, k = map(int, input().split())\n",
        "a=list(map(int, input().split()))\n",
        "m=int(input())\n",
        "cnt=0\n",
        "for x in it.combinations(a,k):  # 조합\n",
        "    if sum(x)%m==0:\n",
        "        cnt+=1\n",
        "print(cnt)\n"
      ],
      "metadata": {
        "id": "KiHN0YbL8Awd",
        "colab": {
          "base_uri": "https://localhost:8080/"
        },
        "outputId": "f06e9e69-af5f-41e4-a95b-ba0f289750c4"
      },
      "execution_count": 2,
      "outputs": [
        {
          "output_type": "stream",
          "name": "stdout",
          "text": [
            "5 3\n",
            "2 4 5 8 12\n",
            "6\n",
            "2\n"
          ]
        }
      ]
    },
    {
      "cell_type": "markdown",
      "source": [
        "### 14. 인접행렬 (가중치 방향그래프)"
      ],
      "metadata": {
        "id": "9s7AfoKhNZ_w"
      }
    },
    {
      "cell_type": "markdown",
      "source": [
        "노드와 간선의 집합  = 그래프  \n",
        "간선에 \"방향\"과 \"값\"이 있으면  = 가중치 방향 그래프  \n",
        "무방향 / 방향 / 가중치 방향\n"
      ],
      "metadata": {
        "id": "6Ye6YMtgNlr7"
      }
    },
    {
      "cell_type": "code",
      "source": [
        "n, m = map(int, input().split())\n",
        "g =[[0]*(n+1) for _ in range(n+1)]\n",
        "for i in range(m):\n",
        "    a,b,c=map(int, input().split())\n",
        "    g[a][b]=c\n",
        "\n",
        "for i in range(1,n+1):\n",
        "    for j in range(1,n+1):\n",
        "        print(g[i][j], end=' ')\n",
        "    print()"
      ],
      "metadata": {
        "colab": {
          "base_uri": "https://localhost:8080/"
        },
        "id": "UuO7Qz4ORZy-",
        "outputId": "32cd96a9-284c-4316-c43b-72a88a2c30fc"
      },
      "execution_count": 3,
      "outputs": [
        {
          "output_type": "stream",
          "name": "stdout",
          "text": [
            "6 9\n",
            "1 2 7\n",
            "1 3 4\n",
            "2 1 2\n",
            "2 3 5\n",
            "2 5 5\n",
            "3 4 5\n",
            "4 2 2\n",
            "4 5 5\n",
            "6 4 5\n",
            "0 7 4 0 0 0 \n",
            "2 0 5 0 5 0 \n",
            "0 0 0 5 0 0 \n",
            "0 2 0 0 5 0 \n",
            "0 0 0 0 0 0 \n",
            "0 0 0 5 0 0 \n"
          ]
        }
      ]
    },
    {
      "cell_type": "markdown",
      "source": [
        "### 15. 경로탐색 (그래프 DFS)"
      ],
      "metadata": {
        "id": "yHHHb9WMSGXZ"
      }
    },
    {
      "cell_type": "markdown",
      "source": [
        "1번 정점에서 N번 정점으로 가는 모든 경로의 가짓 수 출력  \n",
        "(한번 방문한 노드는 다시 방문 금지)"
      ],
      "metadata": {
        "id": "3Kd2YbAkSKeb"
      }
    },
    {
      "cell_type": "code",
      "source": [
        "def DFS(v): #노드번호\n",
        "    global cnt\n",
        "    if v==n:\n",
        "        cnt+=1\n",
        "        for x in path:\n",
        "            print(x, end=' ')\n",
        "        print()\n",
        "    else:\n",
        "        for i in range(1, n+1):\n",
        "            if g[v][i]==1 and ch[i]==0:\n",
        "                ch[i]=1\n",
        "                path.append(i)\n",
        "                DFS(i)\n",
        "                path.pop()\n",
        "                ch[i]=0  #롤백하는지점\n",
        "\n",
        "if __name__==\"__main__\":\n",
        "    n, m = map(int, input().split())\n",
        "    g =[[0]*(n+1) for _ in range(n+1)]\n",
        "    ch=[0]*(n+1)\n",
        "    for i in range(m):\n",
        "        a, b = map(int, input().split())\n",
        "        g[a][b]=1\n",
        "    cnt=0\n",
        "    path=[]\n",
        "    path.append(1)\n",
        "    ch[1]=1\n",
        "    DFS(1)\n",
        "    print(cnt)"
      ],
      "metadata": {
        "colab": {
          "base_uri": "https://localhost:8080/"
        },
        "id": "EjkG0E6cSgfa",
        "outputId": "79151fd2-6162-4d53-e976-8aef90f2dd95"
      },
      "execution_count": 5,
      "outputs": [
        {
          "output_type": "stream",
          "name": "stdout",
          "text": [
            "5 9\n",
            "1 2\n",
            "1 3\n",
            "1 4\n",
            "2 1\n",
            "2 3\n",
            "2 5\n",
            "3 4\n",
            "4 2\n",
            "4 5\n",
            "1 2 3 4 5 \n",
            "1 2 5 \n",
            "1 3 4 2 5 \n",
            "1 3 4 5 \n",
            "1 4 2 5 \n",
            "1 4 5 \n",
            "6\n"
          ]
        }
      ]
    }
  ]
}